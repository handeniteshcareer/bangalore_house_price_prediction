{
 "cells": [
  {
   "cell_type": "markdown",
   "id": "still-rover",
   "metadata": {},
   "source": [
    "# Ensemble"
   ]
  },
  {
   "cell_type": "code",
   "execution_count": null,
   "id": "convertible-andrews",
   "metadata": {},
   "outputs": [],
   "source": []
  },
  {
   "cell_type": "code",
   "execution_count": null,
   "id": "organizational-tract",
   "metadata": {},
   "outputs": [],
   "source": [
    "1. Bagging >>  Parallel approach\n",
    "2. Boosting >> Sequential approach"
   ]
  },
  {
   "cell_type": "code",
   "execution_count": null,
   "id": "therapeutic-replication",
   "metadata": {},
   "outputs": [],
   "source": [
    "Boosting:\n",
    "    1. AdaBoost(Adaptive Boosting)\n",
    "    2. Gradient Boosting\n",
    "    3. Extream Gradient Boosting"
   ]
  },
  {
   "cell_type": "code",
   "execution_count": null,
   "id": "wooden-tragedy",
   "metadata": {},
   "outputs": [],
   "source": [
    "Random Forest >> max_depth = None\n",
    "AdaBoost      >> max_depth = 1\n",
    "\n",
    "Decision Stump >> A tree with just one root node and two leaf node\n",
    "Random Forest >> Forest of Decision Trees\n",
    "AdaBoost >> Forest of Decision stumps\n",
    "\n",
    "Stumps >> Weak Learner \n",
    "\n",
    "Convert weak learner into strong learner"
   ]
  },
  {
   "cell_type": "code",
   "execution_count": null,
   "id": "sitting-completion",
   "metadata": {},
   "outputs": [],
   "source": [
    "x1  >> Chest Pain\n",
    "x2  >> Blocked Arteries\n",
    "x3  >> Height\n",
    "Y   >> Heart Disease\n",
    "\n",
    "     x1    x2   x3    HD  SW        NSW     Normalized NSW    Buckets\n",
    "1    Y      Y   190   Y   1/8(.125) 0.047       0.07       0.00 to 0.07\n",
    "2    N      Y   180   Y   1/8       0.047       0.07       0.07 to 0.14\n",
    "3    Y      N   200   Y   1/8       0.047       0.07       0.14 to 0.21\n",
    "4    Y      Y   167   Y   1/8(MC)   0.33        0.50       0.21 to 0.71\n",
    "5    N      Y   155   N   1/8       0.047       0.07       0.71 to 0.78\n",
    "6    N      Y   138   N   1/8       0.047       0.07       0.78 to 0.85\n",
    "7    Y      N   168   N   1/8       0.047       0.07       0.85 to 0.92      \n",
    "8    Y      Y   174   N   1/8       0.047       0.07       0.92 to 1.0\n",
    "\n",
    "\n",
    "138   N\n",
    "155   N\n",
    "167   Y\n",
    "168   N\n",
    "174   N\n",
    "180   Y\n",
    "190   Y\n",
    "100   Y\n",
    "\n",
    "True\n",
    "138   N\n",
    "155   N\n",
    "167   Y\n",
    "168   N\n",
    "174   N\n",
    "\n",
    "False\n",
    "180   Y\n",
    "190   Y\n",
    "100   Y\n",
    "\n",
    "     x1    x2   x3    HD  SW        NSW     Normalized NSW    Buckets\n",
    "1    Y      Y   190   Y   1/8(.125) 0.047       0.07       0.00 to 0.07\n",
    "2    N      Y   180   Y   1/8       0.047       0.07       0.07 to 0.14\n",
    "3    Y      N   200   Y   1/8       0.047       0.07       0.14 to 0.21\n",
    "4    Y      Y   167   Y   1/8(MC)   0.33        0.50       0.21 to 0.71\n",
    "5    N      Y   155   N   1/8       0.047       0.07       0.71 to 0.78\n",
    "6    N      Y   138   N   1/8       0.047       0.07       0.78 to 0.85\n",
    "7    Y      N   168   N   1/8       0.047       0.07       0.85 to 0.92      \n",
    "8    Y      Y   174   N   1/8       0.047       0.07       0.92 to 1.00"
   ]
  },
  {
   "cell_type": "markdown",
   "id": "consistent-scheme",
   "metadata": {},
   "source": [
    "### Create dataset for model2"
   ]
  },
  {
   "cell_type": "code",
   "execution_count": null,
   "id": "absent-cedar",
   "metadata": {},
   "outputs": [],
   "source": [
    "RW      RowNum     x1    x2   x3    HD\n",
    "0.54     4         Y      Y   167   Y \n",
    "0.67     4         Y      Y   167   Y \n",
    "0.15     3         Y      N   200   Y \n",
    "0.94     8         Y      Y   174   N\n",
    "0.88     7         Y      N   168   N\n",
    "0.05     1         Y      Y   190   Y\n",
    "0.23     4         Y      Y   167   Y \n",
    "0.45     4         Y      Y   167   Y \n",
    "\n",
    "\n",
    "0.1\n",
    "0.2\n",
    "0.3\n",
    "0.4\n",
    "0.5\n",
    "0.6\n",
    "0.7\n",
    "0.8"
   ]
  },
  {
   "cell_type": "code",
   "execution_count": null,
   "id": "dynamic-backup",
   "metadata": {},
   "outputs": [],
   "source": []
  },
  {
   "cell_type": "code",
   "execution_count": 1,
   "id": "nuclear-offer",
   "metadata": {},
   "outputs": [],
   "source": [
    "import numpy as np"
   ]
  },
  {
   "cell_type": "code",
   "execution_count": 6,
   "id": "leading-bandwidth",
   "metadata": {},
   "outputs": [
    {
     "data": {
      "text/plain": [
       "0.9729550745276566"
      ]
     },
     "execution_count": 6,
     "metadata": {},
     "output_type": "execute_result"
    }
   ],
   "source": [
    "performance = 0.5 * np.log(7)\n",
    "performance"
   ]
  },
  {
   "cell_type": "code",
   "execution_count": null,
   "id": "inclusive-hungary",
   "metadata": {},
   "outputs": [],
   "source": [
    "New_Sample_Weight(Misclassified)        = SW * (e ^performance)\n",
    "New_Sample_Weight(correctly classified) = SW * (e ^-performance)"
   ]
  },
  {
   "cell_type": "code",
   "execution_count": 7,
   "id": "stopped-congo",
   "metadata": {},
   "outputs": [
    {
     "data": {
      "text/plain": [
       "0.3307189138830738"
      ]
     },
     "execution_count": 7,
     "metadata": {},
     "output_type": "execute_result"
    }
   ],
   "source": [
    "0.125 * np.exp(performance)"
   ]
  },
  {
   "cell_type": "code",
   "execution_count": 8,
   "id": "fallen-superior",
   "metadata": {},
   "outputs": [
    {
     "data": {
      "text/plain": [
       "0.04724555912615341"
      ]
     },
     "execution_count": 8,
     "metadata": {},
     "output_type": "execute_result"
    }
   ],
   "source": [
    "0.125 * np.exp(-performance)"
   ]
  },
  {
   "cell_type": "code",
   "execution_count": 12,
   "id": "satisfactory-upgrade",
   "metadata": {},
   "outputs": [
    {
     "data": {
      "text/plain": [
       "0.6614378277661477"
      ]
     },
     "execution_count": 12,
     "metadata": {},
     "output_type": "execute_result"
    }
   ],
   "source": [
    "0.04724555912615341 * 7 + 0.3307189138830738"
   ]
  },
  {
   "cell_type": "markdown",
   "id": "incredible-major",
   "metadata": {},
   "source": [
    "### Normalize sample weights"
   ]
  },
  {
   "cell_type": "code",
   "execution_count": null,
   "id": "little-spectrum",
   "metadata": {},
   "outputs": [],
   "source": [
    "Normalize_sample_wt = weight / sum of all weight"
   ]
  },
  {
   "cell_type": "code",
   "execution_count": 14,
   "id": "underlying-click",
   "metadata": {},
   "outputs": [
    {
     "data": {
      "text/plain": [
       "0.07142857142857142"
      ]
     },
     "execution_count": 14,
     "metadata": {},
     "output_type": "execute_result"
    }
   ],
   "source": [
    "0.04724555912615341 / 0.6614378277661477 "
   ]
  },
  {
   "cell_type": "code",
   "execution_count": 15,
   "id": "facial-thing",
   "metadata": {},
   "outputs": [
    {
     "data": {
      "text/plain": [
       "0.4999999999999987"
      ]
     },
     "execution_count": 15,
     "metadata": {},
     "output_type": "execute_result"
    }
   ],
   "source": [
    "0.330718913883073 / 0.6614378277661477 "
   ]
  },
  {
   "cell_type": "code",
   "execution_count": 16,
   "id": "willing-person",
   "metadata": {},
   "outputs": [
    {
     "data": {
      "text/plain": [
       "0.9999989999400001"
      ]
     },
     "execution_count": 16,
     "metadata": {},
     "output_type": "execute_result"
    }
   ],
   "source": [
    "0.499999 +  0.07142857142 * 7"
   ]
  },
  {
   "cell_type": "code",
   "execution_count": null,
   "id": "close-linux",
   "metadata": {},
   "outputs": [],
   "source": [
    "Sample Weight = 1/(total number of samples)\n",
    "\n",
    "Total Error(TE)  = (Number of misclassified datapoints )/ (total samples)\n",
    "\n",
    "performance = 0.5 * log((1-TE)/TE)\n",
    "\n",
    "New_Sample_Weight(Misclassified)        = SW * (e ^performance)\n",
    "New_Sample_Weight(correctly classified) = SW * (e ^-performance)\n",
    "\n",
    "Normalize_sample_wt = weight / sum of all weight"
   ]
  }
 ],
 "metadata": {
  "kernelspec": {
   "display_name": "Python 3",
   "language": "python",
   "name": "python3"
  },
  "language_info": {
   "codemirror_mode": {
    "name": "ipython",
    "version": 3
   },
   "file_extension": ".py",
   "mimetype": "text/x-python",
   "name": "python",
   "nbconvert_exporter": "python",
   "pygments_lexer": "ipython3",
   "version": "3.8.7"
  }
 },
 "nbformat": 4,
 "nbformat_minor": 5
}
