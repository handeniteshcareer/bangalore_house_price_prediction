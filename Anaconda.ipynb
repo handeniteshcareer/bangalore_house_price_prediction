{
 "cells": [
  {
   "cell_type": "markdown",
   "id": "german-technical",
   "metadata": {},
   "source": [
    "# Anaconda"
   ]
  },
  {
   "cell_type": "code",
   "execution_count": null,
   "id": "cognitive-hygiene",
   "metadata": {},
   "outputs": [],
   "source": [
    "Classfication: (2026)  >> python 3.14\n",
    "    tensorflow >> 3.4.1\n",
    "    pandas 2.4.0\n",
    "    sklearn 2.0.2\n",
    "\n",
    "Classfication: (2022) >> Python 3.10\n",
    "    tensorflow >> 2.4.1\n",
    "    pandas 1.4.0\n",
    "    sklearn 1.0.2\n",
    "    \n",
    "Classification >> 2016 Python 2.7\n",
    "    tensorflow >> 1.4.1\n",
    "    pandas 0.5.0\n",
    "    sklearn 0.0.5"
   ]
  },
  {
   "cell_type": "code",
   "execution_count": 2,
   "id": "computational-relations",
   "metadata": {},
   "outputs": [],
   "source": [
    "import pytesseract\n",
    "import pdf2image"
   ]
  },
  {
   "cell_type": "markdown",
   "id": "proud-straight",
   "metadata": {},
   "source": [
    "# 1. Create Conda Env"
   ]
  },
  {
   "cell_type": "code",
   "execution_count": null,
   "id": "valued-energy",
   "metadata": {},
   "outputs": [],
   "source": [
    "conda create -n env_name\n",
    "conda create -n iris_classification"
   ]
  },
  {
   "cell_type": "markdown",
   "id": "retained-speaking",
   "metadata": {},
   "source": [
    "## 1.1 Create Conda Env using yml file"
   ]
  },
  {
   "cell_type": "code",
   "execution_count": null,
   "id": "excessive-prevention",
   "metadata": {},
   "outputs": [],
   "source": [
    "conda env create --file env_file.yml\n",
    "conda env create --file iris_classifier.yml"
   ]
  },
  {
   "cell_type": "markdown",
   "id": "republican-seminar",
   "metadata": {},
   "source": [
    "# 2. Activate Conda Env"
   ]
  },
  {
   "cell_type": "code",
   "execution_count": null,
   "id": "greater-offer",
   "metadata": {},
   "outputs": [],
   "source": [
    "conda activate iris_classification"
   ]
  },
  {
   "cell_type": "markdown",
   "id": "portable-delhi",
   "metadata": {},
   "source": [
    "# 3. Deactivate Conda Env"
   ]
  },
  {
   "cell_type": "code",
   "execution_count": null,
   "id": "dominican-runner",
   "metadata": {},
   "outputs": [],
   "source": [
    "conda deactivate"
   ]
  },
  {
   "cell_type": "markdown",
   "id": "changing-accommodation",
   "metadata": {},
   "source": [
    "# 4. Install Libraries in Conda Env"
   ]
  },
  {
   "cell_type": "code",
   "execution_count": null,
   "id": "lesser-honor",
   "metadata": {},
   "outputs": [],
   "source": [
    "conda install lib_name\n",
    "conda install pandas\n",
    "conda install flask\n",
    "\n",
    "conda install -c anaconda flask\n",
    "\n",
    "conda install nb_conda"
   ]
  },
  {
   "cell_type": "markdown",
   "id": "medical-torture",
   "metadata": {},
   "source": [
    "# 5. Create Conda Env File"
   ]
  },
  {
   "cell_type": "code",
   "execution_count": null,
   "id": "spare-pattern",
   "metadata": {},
   "outputs": [],
   "source": [
    "conda env export > file_name.yml\n",
    "conda env export > iris_clf.yml"
   ]
  },
  {
   "cell_type": "markdown",
   "id": "worldwide-arnold",
   "metadata": {},
   "source": [
    "# 6. Check Conda Envs"
   ]
  },
  {
   "cell_type": "code",
   "execution_count": null,
   "id": "royal-reasoning",
   "metadata": {},
   "outputs": [],
   "source": [
    "conda env list\n",
    "conda info --envs"
   ]
  },
  {
   "cell_type": "markdown",
   "id": "statewide-field",
   "metadata": {},
   "source": [
    "# 7. Check module"
   ]
  },
  {
   "cell_type": "code",
   "execution_count": null,
   "id": "finite-religion",
   "metadata": {},
   "outputs": [],
   "source": [
    "conda list"
   ]
  },
  {
   "cell_type": "markdown",
   "id": "mighty-alabama",
   "metadata": {},
   "source": [
    "# 8. Delete Conda Env"
   ]
  },
  {
   "cell_type": "code",
   "execution_count": null,
   "id": "executive-evaluation",
   "metadata": {},
   "outputs": [],
   "source": [
    "conda env remove -n env_name"
   ]
  },
  {
   "cell_type": "markdown",
   "id": "essential-indie",
   "metadata": {},
   "source": [
    "# 9. Create requirement.txt file"
   ]
  },
  {
   "cell_type": "code",
   "execution_count": null,
   "id": "crude-defensive",
   "metadata": {},
   "outputs": [],
   "source": [
    "conda env remove -n env_name"
   ]
  },
  {
   "cell_type": "code",
   "execution_count": null,
   "id": "varied-purpose",
   "metadata": {},
   "outputs": [],
   "source": [
    "conda install nb_conda"
   ]
  },
  {
   "cell_type": "code",
   "execution_count": 3,
   "id": "integral-investigator",
   "metadata": {},
   "outputs": [],
   "source": [
    "import sklearn"
   ]
  }
 ],
 "metadata": {
  "kernelspec": {
   "display_name": "Python 3",
   "language": "python",
   "name": "python3"
  },
  "language_info": {
   "codemirror_mode": {
    "name": "ipython",
    "version": 3
   },
   "file_extension": ".py",
   "mimetype": "text/x-python",
   "name": "python",
   "nbconvert_exporter": "python",
   "pygments_lexer": "ipython3",
   "version": "3.8.7"
  }
 },
 "nbformat": 4,
 "nbformat_minor": 5
}
